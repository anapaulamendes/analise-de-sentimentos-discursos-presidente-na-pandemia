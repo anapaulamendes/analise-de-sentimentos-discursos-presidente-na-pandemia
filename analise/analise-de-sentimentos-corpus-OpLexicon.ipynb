{
 "cells": [
  {
   "cell_type": "code",
   "execution_count": 1,
   "metadata": {},
   "outputs": [],
   "source": [
    "import os\n",
    "import re\n",
    "import nltk\n",
    "import csv\n",
    "import pandas as pd     \n",
    "import numpy as np\n",
    "from nltk.corpus import stopwords\n",
    "from nltk.corpus import PlaintextCorpusReader\n",
    "from textblob import TextBlob\n",
    "from textblob.classifiers import NaiveBayesClassifier"
   ]
  },
  {
   "cell_type": "code",
   "execution_count": 2,
   "metadata": {},
   "outputs": [
    {
     "name": "stdout",
     "output_type": "stream",
     "text": [
      "['2020-03-03.txt', '2020-03-04.txt', '2020-03-09.txt', '2020-03-10.txt', '2020-04-17.txt', '2020-04-24.txt', '2020-04-29.txt', '2020-05-21.txt', '2020-06-05.txt', '2020-06-08.txt', '2020-06-09.txt', '2020-06-17.txt', '2020-06-22.txt', '2020-06-25.txt', '2020-06-30.txt', '2020-07-02.txt', '2020-07-16.txt', '2020-07-30.txt', '2020-07-31.txt', '2020-08-05.txt', '2020-08-06.txt', '2020-08-11.txt', '2020-08-12.txt', '2020-08-13.txt', '2020-08-14.txt', '2020-08-15.txt', '2020-08-17.txt', '2020-08-18.txt', '2020-08-19.txt', '2020-08-21.txt', '2020-08-24.txt', '2020-08-25.txt', '2020-08-26.txt', '2020-08-27.txt', '2020-08-29.txt', '2020-09-01.txt', '2020-09-02.txt', '2020-09-03.txt', '2020-09-10.txt', '2020-09-11.txt', '2020-09-16.txt', '2020-09-17.txt', '2020-09-18.txt', '2020-09-19.txt', '2020-09-22.txt']\n"
     ]
    }
   ],
   "source": [
    "# Carrega corpus\n",
    "\n",
    "loc = '../discursos'\n",
    "wordLists = PlaintextCorpusReader(loc, '.*\\.txt')\n",
    "print(wordLists.fileids())"
   ]
  },
  {
   "cell_type": "code",
   "execution_count": 3,
   "metadata": {},
   "outputs": [],
   "source": [
    "# Carrega stopwords em português\n",
    "\n",
    "stop_words = stopwords.words('portuguese')"
   ]
  },
  {
   "cell_type": "code",
   "execution_count": 4,
   "metadata": {},
   "outputs": [
    {
     "data": {
      "text/html": [
       "<div>\n",
       "<style scoped>\n",
       "    .dataframe tbody tr th:only-of-type {\n",
       "        vertical-align: middle;\n",
       "    }\n",
       "\n",
       "    .dataframe tbody tr th {\n",
       "        vertical-align: top;\n",
       "    }\n",
       "\n",
       "    .dataframe thead th {\n",
       "        text-align: right;\n",
       "    }\n",
       "</style>\n",
       "<table border=\"1\" class=\"dataframe\">\n",
       "  <thead>\n",
       "    <tr style=\"text-align: right;\">\n",
       "      <th></th>\n",
       "      <th>filename</th>\n",
       "      <th>texts</th>\n",
       "    </tr>\n",
       "  </thead>\n",
       "  <tbody>\n",
       "    <tr>\n",
       "      <th>0</th>\n",
       "      <td>2020-03-03.txt</td>\n",
       "      <td>Discurso Presidente República Jair Bolsonaro d...</td>\n",
       "    </tr>\n",
       "    <tr>\n",
       "      <th>1</th>\n",
       "      <td>2020-03-04.txt</td>\n",
       "      <td>Discurso Presidente República Jair Bolsonaro d...</td>\n",
       "    </tr>\n",
       "    <tr>\n",
       "      <th>2</th>\n",
       "      <td>2020-03-09.txt</td>\n",
       "      <td>Discurso Senhor Presidente República Jair Bols...</td>\n",
       "    </tr>\n",
       "    <tr>\n",
       "      <th>3</th>\n",
       "      <td>2020-03-10.txt</td>\n",
       "      <td>Discurso Presidente República Jair Bolsonaro d...</td>\n",
       "    </tr>\n",
       "    <tr>\n",
       "      <th>4</th>\n",
       "      <td>2020-04-17.txt</td>\n",
       "      <td>Discurso Presidente República Jair Bolsonaro d...</td>\n",
       "    </tr>\n",
       "  </tbody>\n",
       "</table>\n",
       "</div>"
      ],
      "text/plain": [
       "         filename                                              texts\n",
       "0  2020-03-03.txt  Discurso Presidente República Jair Bolsonaro d...\n",
       "1  2020-03-04.txt  Discurso Presidente República Jair Bolsonaro d...\n",
       "2  2020-03-09.txt  Discurso Senhor Presidente República Jair Bols...\n",
       "3  2020-03-10.txt  Discurso Presidente República Jair Bolsonaro d...\n",
       "4  2020-04-17.txt  Discurso Presidente República Jair Bolsonaro d..."
      ]
     },
     "execution_count": 4,
     "metadata": {},
     "output_type": "execute_result"
    }
   ],
   "source": [
    "# Carrega discursos para dataframe\n",
    "\n",
    "fileid_list, text_list, words = [], [], []\n",
    "\n",
    "for fileid in wordLists.fileids():\n",
    "    words = [w for w in list(wordLists.words(fileid)) if w.isalpha() and not w.lower() in stop_words]\n",
    "    text = \" \".join(str(elem) for elem in words)\n",
    "    fileid_list.append(fileid)\n",
    "    text_list.append(text)\n",
    "    \n",
    "df = pd.DataFrame(fileid_list, columns=['filename'])\n",
    "df['texts'] = text_list\n",
    "\n",
    "df.head()"
   ]
  },
  {
   "cell_type": "code",
   "execution_count": 5,
   "metadata": {},
   "outputs": [
    {
     "data": {
      "text/plain": [
       "'-1'"
      ]
     },
     "execution_count": 5,
     "metadata": {},
     "output_type": "execute_result"
    }
   ],
   "source": [
    "# Treina modelo\n",
    "\n",
    "# corpus = pd.read_csv('../corpora/oplexicon_v3.0/lexico_v3.0.csv', sep=',')\n",
    "\n",
    "# train, words, sentiments = [], [], []\n",
    "\n",
    "# for index, row in corpus.iterrows():\n",
    "#     if row['sentiment'] > 0:\n",
    "#         sentiment = 'pos'\n",
    "#     elif row['sentiment'] < 0:\n",
    "#         sentiment = 'neg'\n",
    "#     else:\n",
    "#         sentiment = 'neutral'\n",
    "#     words.append(row['word'])\n",
    "#     sentiments.append(sentiment)\n",
    "#     train.append((row['word'], sentiment))\n",
    "    \n",
    "# train_set = np.array(train)\n",
    "\n",
    "# cl = NaiveBayesClassifier(train_set)\n",
    "\n",
    "# train = []\n",
    "\n",
    "# with open('../corpora/oplexicon_v3.0/lexico_v3.0.csv') as f:\n",
    "#     for row in csv.reader(f):\n",
    "#         train.append(({w: w for w in row[0].split()}, row[2]))\n",
    "\n",
    "# cl = nltk.NaiveBayesClassifier.train(train)\n",
    "\n",
    "cl = NaiveBayesClassifier('')\n",
    "\n",
    "\n",
    "class FeatureDict(object):\n",
    "    def __iter__(self):\n",
    "        with open('../corpora/oplexicon_v3.0/lexico_v3.0.csv') as f:\n",
    "            for row in csv.reader(f):\n",
    "                yield {w: w for w in row[0].split()}, row[2]\n",
    "\n",
    "cl.train_features = FeatureDict()\n",
    "cl.classify('o menino é bom')"
   ]
  },
  {
   "cell_type": "code",
   "execution_count": 6,
   "metadata": {},
   "outputs": [],
   "source": [
    "# Teste para a acurácia\n",
    "# Trechos criados com palavras presentes no corpus\n",
    "\n",
    "test = [\n",
    "    ('Está abrasileirado!', '0'),\n",
    "    ('o Brasil está abalado', '-1'),\n",
    "    ('A tecnologia é sofisticada', '1'),\n",
    "    ('Me sinto humilhado', '-1'),\n",
    "    ('Temos que ser solidários neste momento', '1'),\n",
    "    ('Sejamos humildes', '0'),\n",
    "    ('É tempo de sorrir', '1'),\n",
    "    ('São todos beneficiários', '0'),\n",
    "    ('É sofrida esta situação', '-1')\n",
    "]"
   ]
  },
  {
   "cell_type": "code",
   "execution_count": 7,
   "metadata": {},
   "outputs": [
    {
     "data": {
      "text/plain": [
       "0.3333333333333333"
      ]
     },
     "execution_count": 7,
     "metadata": {},
     "output_type": "execute_result"
    }
   ],
   "source": [
    "# Acurácia do modelo\n",
    "\n",
    "cl.accuracy(test)"
   ]
  },
  {
   "cell_type": "code",
   "execution_count": 8,
   "metadata": {},
   "outputs": [
    {
     "name": "stdout",
     "output_type": "stream",
     "text": [
      "Most Informative Features\n",
      "                   fazer = 'fazer'             1 : 0      =     40.0 : 1.0\n",
      "                     ter = 'ter'               1 : 0      =     13.8 : 1.0\n",
      "                   ficar = 'ficar'             1 : -1     =      7.6 : 1.0\n",
      "                     uma = 'uma'               1 : -1     =      7.1 : 1.0\n",
      "                  tornar = 'tornar'            1 : 0      =      6.7 : 1.0\n",
      "                     dar = 'dar'               1 : -1     =      5.9 : 1.0\n",
      "                      em = 'em'                1 : -1     =      5.0 : 1.0\n",
      "                   estar = 'estar'             1 : -1     =      5.0 : 1.0\n",
      "                   sobre = 'sobre'             1 : -1     =      5.0 : 1.0\n",
      "                       a = 'a'                 1 : -1     =      3.9 : 1.0\n",
      "                  deixar = 'deixar'            1 : 0      =      3.9 : 1.0\n",
      "                      ir = 'ir'                1 : 0      =      3.2 : 1.0\n",
      "                     ser = 'ser'               1 : -1     =      3.0 : 1.0\n",
      "                     seu = 'seu'               0 : 1      =      2.8 : 1.0\n",
      "                 magoado = 'magoado'           1 : -1     =      2.8 : 1.0\n"
     ]
    }
   ],
   "source": [
    "# Características mais informativas do discurso\n",
    "\n",
    "cl.show_informative_features(15)"
   ]
  },
  {
   "cell_type": "code",
   "execution_count": 9,
   "metadata": {},
   "outputs": [
    {
     "data": {
      "text/html": [
       "<div>\n",
       "<style scoped>\n",
       "    .dataframe tbody tr th:only-of-type {\n",
       "        vertical-align: middle;\n",
       "    }\n",
       "\n",
       "    .dataframe tbody tr th {\n",
       "        vertical-align: top;\n",
       "    }\n",
       "\n",
       "    .dataframe thead th {\n",
       "        text-align: right;\n",
       "    }\n",
       "</style>\n",
       "<table border=\"1\" class=\"dataframe\">\n",
       "  <thead>\n",
       "    <tr style=\"text-align: right;\">\n",
       "      <th></th>\n",
       "      <th>filename</th>\n",
       "      <th>texts</th>\n",
       "      <th>sentiment</th>\n",
       "      <th>probability_distribution</th>\n",
       "      <th>prob_dist_pos</th>\n",
       "      <th>prob_dist_neg</th>\n",
       "      <th>prob_dist_neutral</th>\n",
       "    </tr>\n",
       "  </thead>\n",
       "  <tbody>\n",
       "    <tr>\n",
       "      <th>0</th>\n",
       "      <td>2020-03-03.txt</td>\n",
       "      <td>Discurso Presidente República Jair Bolsonaro d...</td>\n",
       "      <td>-1</td>\n",
       "      <td>-1</td>\n",
       "      <td>0.27</td>\n",
       "      <td>0.45</td>\n",
       "      <td>0.28</td>\n",
       "    </tr>\n",
       "    <tr>\n",
       "      <th>1</th>\n",
       "      <td>2020-03-04.txt</td>\n",
       "      <td>Discurso Presidente República Jair Bolsonaro d...</td>\n",
       "      <td>-1</td>\n",
       "      <td>-1</td>\n",
       "      <td>0.27</td>\n",
       "      <td>0.45</td>\n",
       "      <td>0.28</td>\n",
       "    </tr>\n",
       "    <tr>\n",
       "      <th>2</th>\n",
       "      <td>2020-03-09.txt</td>\n",
       "      <td>Discurso Senhor Presidente República Jair Bols...</td>\n",
       "      <td>-1</td>\n",
       "      <td>-1</td>\n",
       "      <td>0.27</td>\n",
       "      <td>0.45</td>\n",
       "      <td>0.28</td>\n",
       "    </tr>\n",
       "    <tr>\n",
       "      <th>3</th>\n",
       "      <td>2020-03-10.txt</td>\n",
       "      <td>Discurso Presidente República Jair Bolsonaro d...</td>\n",
       "      <td>-1</td>\n",
       "      <td>-1</td>\n",
       "      <td>0.27</td>\n",
       "      <td>0.45</td>\n",
       "      <td>0.28</td>\n",
       "    </tr>\n",
       "    <tr>\n",
       "      <th>4</th>\n",
       "      <td>2020-04-17.txt</td>\n",
       "      <td>Discurso Presidente República Jair Bolsonaro d...</td>\n",
       "      <td>-1</td>\n",
       "      <td>-1</td>\n",
       "      <td>0.27</td>\n",
       "      <td>0.45</td>\n",
       "      <td>0.28</td>\n",
       "    </tr>\n",
       "  </tbody>\n",
       "</table>\n",
       "</div>"
      ],
      "text/plain": [
       "         filename                                              texts  \\\n",
       "0  2020-03-03.txt  Discurso Presidente República Jair Bolsonaro d...   \n",
       "1  2020-03-04.txt  Discurso Presidente República Jair Bolsonaro d...   \n",
       "2  2020-03-09.txt  Discurso Senhor Presidente República Jair Bols...   \n",
       "3  2020-03-10.txt  Discurso Presidente República Jair Bolsonaro d...   \n",
       "4  2020-04-17.txt  Discurso Presidente República Jair Bolsonaro d...   \n",
       "\n",
       "  sentiment probability_distribution  prob_dist_pos  prob_dist_neg  \\\n",
       "0        -1                       -1           0.27           0.45   \n",
       "1        -1                       -1           0.27           0.45   \n",
       "2        -1                       -1           0.27           0.45   \n",
       "3        -1                       -1           0.27           0.45   \n",
       "4        -1                       -1           0.27           0.45   \n",
       "\n",
       "   prob_dist_neutral  \n",
       "0               0.28  \n",
       "1               0.28  \n",
       "2               0.28  \n",
       "3               0.28  \n",
       "4               0.28  "
      ]
     },
     "execution_count": 9,
     "metadata": {},
     "output_type": "execute_result"
    }
   ],
   "source": [
    "sentiments, probability_distribution, prob_dist_pos, prob_dist_neg, prob_dist_neutral = [], [], [], [], []\n",
    "\n",
    "for text in df['texts']:\n",
    "    sentiments.append(cl.classify(text))\n",
    "    prob_dist = cl.prob_classify(text)\n",
    "    probability_distribution.append(prob_dist.max())\n",
    "    prob_dist_pos.append(round(prob_dist.prob(\"1\"), 2))\n",
    "    prob_dist_neg.append(round(prob_dist.prob(\"-1\"), 2))\n",
    "    prob_dist_neutral.append(round(prob_dist.prob(\"0\"), 2))\n",
    "    \n",
    "df['sentiment'] = sentiments\n",
    "df['probability_distribution'] = probability_distribution\n",
    "df['prob_dist_pos'] = prob_dist_pos\n",
    "df['prob_dist_neg'] = prob_dist_neg\n",
    "df['prob_dist_neutral'] = prob_dist_neutral\n",
    "\n",
    "df.head()"
   ]
  },
  {
   "cell_type": "code",
   "execution_count": 10,
   "metadata": {},
   "outputs": [],
   "source": [
    "pos = [text for index, text in enumerate(df['texts']) if df['sentiment'][index] == '1']\n",
    "neg = [text for index, text in enumerate(df['texts']) if df['sentiment'][index] == '-1']\n",
    "neutral = [text for index, text in enumerate(df['texts']) if df['sentiment'][index] == '0']"
   ]
  },
  {
   "cell_type": "code",
   "execution_count": 11,
   "metadata": {},
   "outputs": [
    {
     "data": {
      "image/png": "[encoded data removed]",
      "text/plain": [
       "<Figure size 360x360 with 1 Axes>"
      ]
     },
     "metadata": {},
     "output_type": "display_data"
    }
   ],
   "source": [
    "chart = pd.Series((len(pos), len(neg), len(neutral)), index=('Positivos', 'Negativos', 'Neutros'), name='Análise de Sentimentos')\n",
    "chart.plot.pie(fontsize=12, autopct='%.2f', figsize=(5, 5));"
   ]
  }
 ],
 "metadata": {
  "kernelspec": {
   "display_name": "Python 3",
   "language": "python",
   "name": "python3"
  },
  "language_info": {
   "codemirror_mode": {
    "name": "ipython",
    "version": 3
   },
   "file_extension": ".py",
   "mimetype": "text/x-python",
   "name": "python",
   "nbconvert_exporter": "python",
   "pygments_lexer": "ipython3",
   "version": "3.7.5"
  }
 },
 "nbformat": 4,
 "nbformat_minor": 4
}

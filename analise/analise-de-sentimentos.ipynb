{
 "cells": [
  {
   "cell_type": "code",
   "execution_count": 1,
   "metadata": {},
   "outputs": [],
   "source": [
    "import nltk\n",
    "from nltk.corpus import stopwords\n",
    "from nltk.corpus import PlaintextCorpusReader"
   ]
  },
  {
   "cell_type": "code",
   "execution_count": 2,
   "metadata": {},
   "outputs": [],
   "source": [
    "# ----------------------------------------- ANÁLISE DE SENTIMENTOS -----------------------------------------"
   ]
  },
  {
   "cell_type": "code",
   "execution_count": 3,
   "metadata": {},
   "outputs": [
    {
     "name": "stdout",
     "output_type": "stream",
     "text": [
      "['2020-03-03.txt', '2020-03-04.txt', '2020-03-09.txt', '2020-03-10.txt', '2020-04-17.txt', '2020-04-24.txt', '2020-04-29.txt', '2020-05-21.txt', '2020-06-05.txt', '2020-06-08.txt', '2020-06-09.txt', '2020-06-17.txt', '2020-06-22.txt', '2020-06-25.txt', '2020-06-30.txt', '2020-07-02.txt', '2020-07-16.txt', '2020-07-30.txt', '2020-07-31.txt', '2020-08-05.txt', '2020-08-06.txt', '2020-08-11.txt', '2020-08-12.txt', '2020-08-13.txt', '2020-08-14.txt', '2020-08-15.txt', '2020-08-17.txt', '2020-08-18.txt', '2020-08-19.txt', '2020-08-21.txt', '2020-08-24.txt', '2020-08-25.txt', '2020-08-26.txt', '2020-08-27.txt', '2020-08-29.txt', '2020-09-01.txt', '2020-09-02.txt', '2020-09-03.txt', '2020-09-10.txt', '2020-09-11.txt', '2020-09-16.txt', '2020-09-17.txt', '2020-09-18.txt']\n"
     ]
    }
   ],
   "source": [
    "# Carrega corpus\n",
    "\n",
    "loc = '../discursos'\n",
    "wordLists = PlaintextCorpusReader(loc, '.*\\.txt')\n",
    "print(wordLists.fileids())"
   ]
  },
  {
   "cell_type": "code",
   "execution_count": 4,
   "metadata": {},
   "outputs": [],
   "source": [
    "# Carrega stopwords em português\n",
    "\n",
    "stop_words = stopwords.words('portuguese')"
   ]
  },
  {
   "cell_type": "code",
   "execution_count": 5,
   "metadata": {},
   "outputs": [
    {
     "name": "stdout",
     "output_type": "stream",
     "text": [
      "[{'name': '2020-03-03.txt', 'content': <Text: Discurso do Presidente da República , Jair Bolsonaro...>}, {'name': '2020-03-04.txt', 'content': <Text: Discurso do Presidente da República , Jair Bolsonaro...>}, {'name': '2020-03-09.txt', 'content': <Text: Discurso do Senhor Presidente da República , Jair...>}, {'name': '2020-03-10.txt', 'content': <Text: Discurso do Presidente da República , Jair Bolsonaro...>}, {'name': '2020-04-17.txt', 'content': <Text: Discurso do Presidente da República , Jair Bolsonaro...>}, {'name': '2020-04-24.txt', 'content': <Text: Pronunciamento do Senhor Presidente da República , Jair...>}, {'name': '2020-04-29.txt', 'content': <Text: Discurso do Senhor Presidente da República , Jair...>}, {'name': '2020-05-21.txt', 'content': <Text: Fala do Presidente da República , Jair Bolsonaro...>}, {'name': '2020-06-05.txt', 'content': <Text: Discurso do Presidente da República , Jair Bolsonaro...>}, {'name': '2020-06-08.txt', 'content': <Text: Discurso do Presidente da República , Jair Bolsonaro...>}, {'name': '2020-06-09.txt', 'content': <Text: Fala do Presidente da República , Jair Bolsonaro...>}, {'name': '2020-06-17.txt', 'content': <Text: Discurso do Presidente da República , Jair Bolsonaro...>}, {'name': '2020-06-22.txt', 'content': <Text: Discurso do Presidente da República , Jair Bolsonaro...>}, {'name': '2020-06-25.txt', 'content': <Text: Discurso do Presidente da República , Jair Bolsonaro...>}, {'name': '2020-06-30.txt', 'content': <Text: Discurso do Presidente Presidente da República , Jair...>}, {'name': '2020-07-02.txt', 'content': <Text: Fala inicial do Presidente da República , Jair...>}, {'name': '2020-07-16.txt', 'content': <Text: Discurso do Presidente da República , Jair Bolsonaro...>}, {'name': '2020-07-30.txt', 'content': <Text: Discurso de Presidente da República , Jair Bolsonaro...>}, {'name': '2020-07-31.txt', 'content': <Text: Fala do Presidente da República , Jair Bolsonaro...>}, {'name': '2020-08-05.txt', 'content': <Text: Discurso do Presidente da República , Jair Bolsonaro...>}, {'name': '2020-08-06.txt', 'content': <Text: Discurso do Presidente da República , Jair Bolsonaro...>}, {'name': '2020-08-11.txt', 'content': <Text: Discurso do Presidente da República , Jair Bolsonaro...>}, {'name': '2020-08-12.txt', 'content': <Text: Discurso do Presidente da República , Jair Bolsonaro...>}, {'name': '2020-08-13.txt', 'content': <Text: Discurso do Presidente da República , Jair Bolsonaro...>}, {'name': '2020-08-14.txt', 'content': <Text: Discurso do Presidente da República , Jair Bolsonaro...>}, {'name': '2020-08-15.txt', 'content': <Text: Discurso do Presidente da República , Jair Bolsonaro...>}, {'name': '2020-08-17.txt', 'content': <Text: Discurso do Presidente da República , Jair Bolsonaro...>}, {'name': '2020-08-18.txt', 'content': <Text: Discurso do Presidente da República , Jair Bolsonaro...>}, {'name': '2020-08-19.txt', 'content': <Text: Discurso do Presidente da República , Jair Bolsonaro...>}, {'name': '2020-08-21.txt', 'content': <Text: Discurso do Presidente da República , Jair Bolsonaro...>}, {'name': '2020-08-24.txt', 'content': <Text: Discurso do Presidente da República , Jair Bolsonaro...>}, {'name': '2020-08-25.txt', 'content': <Text: Discurso do Presidente da República , Jair Bolsonaro...>}, {'name': '2020-08-26.txt', 'content': <Text: Discurso do Presidente da República , Jair Bolsonaro...>}, {'name': '2020-08-27.txt', 'content': <Text: Discurso do Presidente da República , Jair Bolsonaro...>}, {'name': '2020-08-29.txt', 'content': <Text: Discurso do Presidente da República , Jair Bolsonaro...>}, {'name': '2020-09-01.txt', 'content': <Text: Discurso do Presidente da República , Jair Bolsonaro...>}, {'name': '2020-09-02.txt', 'content': <Text: Discurso do Presidente da República , Jair Bolsonaro...>}, {'name': '2020-09-03.txt', 'content': <Text: Discurso do Presidente da República , Jair Bolsonaro...>}, {'name': '2020-09-10.txt', 'content': <Text: Discurso do Presidente da República , Jair Bolsonaro...>}, {'name': '2020-09-11.txt', 'content': <Text: Discurso do Presidente da República , Jair Bolsonaro...>}, {'name': '2020-09-16.txt', 'content': <Text: Discurso do Presidente da República , Jair Bolsonaro...>}, {'name': '2020-09-17.txt', 'content': <Text: Discurso do Presidente da República , Jair Bolsonaro...>}, {'name': '2020-09-18.txt', 'content': <Text: Discurso ‌ ‌ do ‌ ‌ Presidente ‌...>}]\n"
     ]
    }
   ],
   "source": [
    "# Transforma os discursos em type Text e adiciona do dicionário com as chaves name (nome do arquivo)\n",
    "# e content (texto)\n",
    "\n",
    "texts = []\n",
    "\n",
    "for fileid in wordLists.fileids():\n",
    "    text = nltk.Text(wordLists.words(fileid))\n",
    "    texts.append({\"name\": fileid, \"content\": text})\n",
    "\n",
    "print(texts)"
   ]
  }
 ],
 "metadata": {
  "kernelspec": {
   "display_name": "Python 3",
   "language": "python",
   "name": "python3"
  },
  "language_info": {
   "codemirror_mode": {
    "name": "ipython",
    "version": 3
   },
   "file_extension": ".py",
   "mimetype": "text/x-python",
   "name": "python",
   "nbconvert_exporter": "python",
   "pygments_lexer": "ipython3",
   "version": "3.7.5"
  }
 },
 "nbformat": 4,
 "nbformat_minor": 4
}

{
 "cells": [
  {
   "cell_type": "code",
   "execution_count": 1,
   "metadata": {},
   "outputs": [],
   "source": [
    "import datetime\n",
    "from datetime import datetime\n",
    "from selenium import webdriver\n",
    "\n",
    "driver = webdriver.Chrome()\n",
    "\n",
    "due_date = datetime(2020, 2, 26)\n",
    "last_date = datetime(2020, 9, 23)\n",
    "\n",
    "pages = (\"https://www.gov.br/planalto/pt-br/acompanhe-o-planalto/discursos?b_start:int=0\",\n",
    "         \"https://www.gov.br/planalto/pt-br/acompanhe-o-planalto/discursos?b_start:int=30\")\n",
    "\n",
    "info_pages = []\n",
    "\n",
    "for page in pages:\n",
    "    driver.get(page)\n",
    "    contents = []\n",
    "    contents = driver.find_elements_by_class_name(\"tileItem\")\n",
    "    for content in contents:\n",
    "        title = content.find_element_by_class_name(\"url\").text\n",
    "        link = content.find_element_by_class_name(\"url\").get_attribute(\"href\")\n",
    "        date_str = content.find_element_by_class_name(\"summary-view-icon\").text\n",
    "        day, month, year = date_str.split(\"/\")\n",
    "        file_date = \"{}-{}-{}\".format(year, month, day)\n",
    "        date = datetime.strptime(date_str, \"%d/%m/%Y\")\n",
    "        if date >= due_date and date <= last_date:\n",
    "            info_pages.append({\"date\": file_date, \"link\": link})\n",
    "            \n",
    "for page in info_pages:\n",
    "    file = open(\"../discursos/{}.txt\".format(page[\"date\"].replace(\"/\", \"-\")), \"w\")\n",
    "    driver.get(page[\"link\"])\n",
    "    driver.implicitly_wait(5)\n",
    "    page_title = driver.find_element_by_tag_name(\"h1\").text\n",
    "    text_content = driver.find_element_by_id(\"parent-fieldname-text\").text\n",
    "    file.writelines([page_title, text_content])\n",
    "    file.close()"
   ]
  }
 ],
 "metadata": {
  "kernelspec": {
   "display_name": "Python 3",
   "language": "python",
   "name": "python3"
  },
  "language_info": {
   "codemirror_mode": {
    "name": "ipython",
    "version": 3
   },
   "file_extension": ".py",
   "mimetype": "text/x-python",
   "name": "python",
   "nbconvert_exporter": "python",
   "pygments_lexer": "ipython3",
   "version": "3.7.5"
  }
 },
 "nbformat": 4,
 "nbformat_minor": 4
}
